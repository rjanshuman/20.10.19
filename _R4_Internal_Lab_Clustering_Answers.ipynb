{
 "cells": [
  {
   "cell_type": "markdown",
   "metadata": {
    "colab_type": "text",
    "id": "zfsiaKcDho8W"
   },
   "source": [
    "### The data set has information about features of silhouette extracted from the images of different cars\n",
    "\n",
    "Four \"Corgie\" model vehicles were used for the experiment: a double decker bus, Cheverolet van, Saab 9000 and an Opel Manta 400 cars. This particular combination of vehicles was chosen with the expectation that the bus, van and either one of the cars would be readily distinguishable, but it would be more difficult to distinguish between the cars.\n",
    "\n"
   ]
  },
  {
   "cell_type": "markdown",
   "metadata": {
    "colab_type": "text",
    "id": "kVtZqLhGho8c"
   },
   "source": [
    "### 1. Read the dataset using function .dropna() - to avoid dealing with NAs as of now"
   ]
  },
  {
   "cell_type": "code",
   "execution_count": 118,
   "metadata": {
    "colab": {},
    "colab_type": "code",
    "id": "VbKTspg4ho8g"
   },
   "outputs": [
    {
     "name": "stdout",
     "output_type": "stream",
     "text": [
      "<class 'pandas.core.frame.DataFrame'>\n",
      "Int64Index: 813 entries, 0 to 845\n",
      "Data columns (total 19 columns):\n",
      "compactness                    813 non-null int64\n",
      "circularity                    813 non-null float64\n",
      "distance_circularity           813 non-null float64\n",
      "radius_ratio                   813 non-null float64\n",
      "pr.axis_aspect_ratio           813 non-null float64\n",
      "max.length_aspect_ratio        813 non-null int64\n",
      "scatter_ratio                  813 non-null float64\n",
      "elongatedness                  813 non-null float64\n",
      "pr.axis_rectangularity         813 non-null float64\n",
      "max.length_rectangularity      813 non-null int64\n",
      "scaled_variance                813 non-null float64\n",
      "scaled_variance.1              813 non-null float64\n",
      "scaled_radius_of_gyration      813 non-null float64\n",
      "scaled_radius_of_gyration.1    813 non-null float64\n",
      "skewness_about                 813 non-null float64\n",
      "skewness_about.1               813 non-null float64\n",
      "skewness_about.2               813 non-null float64\n",
      "hollows_ratio                  813 non-null int64\n",
      "class                          813 non-null object\n",
      "dtypes: float64(14), int64(4), object(1)\n",
      "memory usage: 127.0+ KB\n"
     ]
    }
   ],
   "source": [
    "import pandas as pd\n",
    "vhc=pd.read_csv(\"C:\\\\Users\\\\Vinay Dwivedi\\\\Downloads\\\\Video\\\\20.10.19\\\\Lab\\\\vehicle.csv\")\n",
    "#vhc[vhc.isna().any(axis=1)].info()\n",
    "vhc.dropna(inplace=True)\n",
    "vhc.info()"
   ]
  },
  {
   "cell_type": "markdown",
   "metadata": {
    "colab_type": "text",
    "id": "Ku4eS0ZAho8s"
   },
   "source": [
    "### 2. Print/ Plot the dependent (categorical variable) - Class column"
   ]
  },
  {
   "cell_type": "markdown",
   "metadata": {
    "colab_type": "text",
    "id": "R1mfF_hiho8v"
   },
   "source": [
    "Since the variable is categorical, you can use value_counts function"
   ]
  },
  {
   "cell_type": "code",
   "execution_count": 119,
   "metadata": {
    "colab": {},
    "colab_type": "code",
    "id": "_dP5-zpUho81"
   },
   "outputs": [
    {
     "data": {
      "text/plain": [
       "<matplotlib.axes._subplots.AxesSubplot at 0x4272c358>"
      ]
     },
     "execution_count": 119,
     "metadata": {},
     "output_type": "execute_result"
    },
    {
     "data": {
      "image/png": "[encoded data removed]",
      "text/plain": [
       "<Figure size 432x288 with 1 Axes>"
      ]
     },
     "metadata": {
      "needs_background": "light"
     },
     "output_type": "display_data"
    }
   ],
   "source": [
    "%matplotlib inline\n",
    "vhc['class'].value_counts().plot(kind='bar')"
   ]
  },
  {
   "cell_type": "markdown",
   "metadata": {
    "colab_type": "text",
    "id": "ZFsXYI5qho9E"
   },
   "source": [
    "### Check for any missing values in the data "
   ]
  },
  {
   "cell_type": "code",
   "execution_count": 120,
   "metadata": {
    "colab": {},
    "colab_type": "code",
    "id": "qb77DNfwho9J"
   },
   "outputs": [
    {
     "name": "stdout",
     "output_type": "stream",
     "text": [
      "<class 'pandas.core.frame.DataFrame'>\n",
      "Int64Index: 0 entries\n",
      "Data columns (total 19 columns):\n",
      "compactness                    0 non-null int64\n",
      "circularity                    0 non-null float64\n",
      "distance_circularity           0 non-null float64\n",
      "radius_ratio                   0 non-null float64\n",
      "pr.axis_aspect_ratio           0 non-null float64\n",
      "max.length_aspect_ratio        0 non-null int64\n",
      "scatter_ratio                  0 non-null float64\n",
      "elongatedness                  0 non-null float64\n",
      "pr.axis_rectangularity         0 non-null float64\n",
      "max.length_rectangularity      0 non-null int64\n",
      "scaled_variance                0 non-null float64\n",
      "scaled_variance.1              0 non-null float64\n",
      "scaled_radius_of_gyration      0 non-null float64\n",
      "scaled_radius_of_gyration.1    0 non-null float64\n",
      "skewness_about                 0 non-null float64\n",
      "skewness_about.1               0 non-null float64\n",
      "skewness_about.2               0 non-null float64\n",
      "hollows_ratio                  0 non-null int64\n",
      "class                          0 non-null object\n",
      "dtypes: float64(14), int64(4), object(1)\n",
      "memory usage: 0.0+ bytes\n"
     ]
    }
   ],
   "source": [
    "vhc[vhc.isnull().any(axis=1)].info()"
   ]
  },
  {
   "cell_type": "markdown",
   "metadata": {
    "colab_type": "text",
    "id": "AwUdJm9qho9U"
   },
   "source": [
    "### 3. Standardize the data "
   ]
  },
  {
   "cell_type": "markdown",
   "metadata": {
    "colab_type": "text",
    "id": "x6z10bgjho9j"
   },
   "source": [
    "Since the dimensions of the data are not really known to us, it would be wise to standardize the data using z scores before we go for any clustering methods.\n",
    "You can use zscore function to do this"
   ]
  },
  {
   "cell_type": "code",
   "execution_count": 242,
   "metadata": {
    "colab": {},
    "colab_type": "code",
    "id": "qed3MlPjho9n"
   },
   "outputs": [],
   "source": [
    "import matplotlib.pyplot as plt   \n",
    "import seaborn as sns\n",
    "import numpy as np\n",
    "\n",
    "l=[\"cars\",\"vans\",\"bus\"]\n",
    "\n",
    "vhc_z = vhc.copy()\n",
    "cols = list(vhc_z.columns)\n",
    "cols.remove('class')\n",
    "\n",
    "# now iterate over the remaining columns and create a new zscore column\n",
    "for col in cols:\n",
    "    col_zscore = col + '_zscore'\n",
    "    vhc_z[col_zscore] = (vhc[col] - vhc[col].mean())/vhc[col].std(ddof=0)\n",
    "\n",
    "vhc_z.drop(vhc_z.iloc[:, 0:19], inplace=True, axis=1)\n",
    "vhc_z['class']=vhc['class']\n",
    "c=pd.get_dummies(vhc_z['class'])\n",
    "vhc_z['class']=np.argmax(c.values,axis=1)\n",
    "#sns.pairplot(vhc_z, diag_kind='kde', hue = 'class')"
   ]
  },
  {
   "cell_type": "code",
   "execution_count": null,
   "metadata": {
    "colab_type": "text",
    "id": "weIwi8cxho-C"
   },
   "outputs": [],
   "source": [
    "### K - Means Clustering"
   ]
  },
  {
   "cell_type": "code",
   "execution_count": 161,
   "metadata": {
    "colab_type": "text",
    "id": "YdA5yJ1m61-L"
   },
   "outputs": [],
   "source": [
    "### Assign a dummy array called Cluster_error"
   ]
  },
  {
   "cell_type": "code",
   "execution_count": 243,
   "metadata": {
    "colab": {},
    "colab_type": "code",
    "id": "PRcbAApuho-g"
   },
   "outputs": [],
   "source": [
    "from sklearn import metrics\n",
    "from sklearn.cluster import KMeans\n",
    "from scipy.spatial import distance\n",
    "\n",
    "plt.rcParams['figure.figsize'] = (16, 9)\n",
    "plt.style.use('ggplot')\n",
    "\n",
    "#print(\"Input Data Shape\")\n",
    "# Getting the values and plotting it\n",
    "#f1 = vhc_z['V1'].values\n",
    "#f2 = vhc_z['V2'].values\n",
    "#X = np.array(list(zip(f1, f2)))\n",
    "#plt.scatter(vhc_z[:,:17],vhc_z[:,18], c='black', s=7)\n",
    "\n",
    "\n"
   ]
  },
  {
   "cell_type": "code",
   "execution_count": 249,
   "metadata": {},
   "outputs": [
    {
     "data": {
      "text/html": [
       "<div>\n",
       "<style scoped>\n",
       "    .dataframe tbody tr th:only-of-type {\n",
       "        vertical-align: middle;\n",
       "    }\n",
       "\n",
       "    .dataframe tbody tr th {\n",
       "        vertical-align: top;\n",
       "    }\n",
       "\n",
       "    .dataframe thead th {\n",
       "        text-align: right;\n",
       "    }\n",
       "</style>\n",
       "<table border=\"1\" class=\"dataframe\">\n",
       "  <thead>\n",
       "    <tr style=\"text-align: right;\">\n",
       "      <th></th>\n",
       "      <th>num_clusters</th>\n",
       "      <th>cluster_errors</th>\n",
       "    </tr>\n",
       "  </thead>\n",
       "  <tbody>\n",
       "    <tr>\n",
       "      <th>0</th>\n",
       "      <td>1</td>\n",
       "      <td>15033.876999</td>\n",
       "    </tr>\n",
       "    <tr>\n",
       "      <th>1</th>\n",
       "      <td>2</td>\n",
       "      <td>9012.725488</td>\n",
       "    </tr>\n",
       "    <tr>\n",
       "      <th>2</th>\n",
       "      <td>3</td>\n",
       "      <td>7430.523057</td>\n",
       "    </tr>\n",
       "    <tr>\n",
       "      <th>3</th>\n",
       "      <td>4</td>\n",
       "      <td>6807.848613</td>\n",
       "    </tr>\n",
       "    <tr>\n",
       "      <th>4</th>\n",
       "      <td>5</td>\n",
       "      <td>5595.860181</td>\n",
       "    </tr>\n",
       "    <tr>\n",
       "      <th>5</th>\n",
       "      <td>6</td>\n",
       "      <td>5080.640856</td>\n",
       "    </tr>\n",
       "    <tr>\n",
       "      <th>6</th>\n",
       "      <td>7</td>\n",
       "      <td>4689.451538</td>\n",
       "    </tr>\n",
       "    <tr>\n",
       "      <th>7</th>\n",
       "      <td>8</td>\n",
       "      <td>4412.159988</td>\n",
       "    </tr>\n",
       "    <tr>\n",
       "      <th>8</th>\n",
       "      <td>9</td>\n",
       "      <td>4086.948505</td>\n",
       "    </tr>\n",
       "    <tr>\n",
       "      <th>9</th>\n",
       "      <td>10</td>\n",
       "      <td>3869.475307</td>\n",
       "    </tr>\n",
       "  </tbody>\n",
       "</table>\n",
       "</div>"
      ],
      "text/plain": [
       "   num_clusters  cluster_errors\n",
       "0             1    15033.876999\n",
       "1             2     9012.725488\n",
       "2             3     7430.523057\n",
       "3             4     6807.848613\n",
       "4             5     5595.860181\n",
       "5             6     5080.640856\n",
       "6             7     4689.451538\n",
       "7             8     4412.159988\n",
       "8             9     4086.948505\n",
       "9            10     3869.475307"
      ]
     },
     "execution_count": 249,
     "metadata": {},
     "output_type": "execute_result"
    }
   ],
   "source": [
    "# Let us check optimal number of clusters-\n",
    "distortion = []\n",
    "\n",
    "cluster_range = range( 1, 11)   # expect 3 to four clusters from the pair panel visual inspection hence restricting from 2 to 6\n",
    "cluster_errors = []\n",
    "cluster_sil_scores = []\n",
    "for num_clusters in cluster_range:\n",
    "  clusters = KMeans( num_clusters, n_init = 5)\n",
    "  clusters.fit(vhc_z)\n",
    "  labels = clusters.labels_                     # capture the cluster lables\n",
    "  centroids = clusters.cluster_centers_         # capture the centroids\n",
    "  cluster_errors.append( clusters.inertia_ )    # capture the intertia\n",
    "  distortion.append(sum(np.min(distance.cdist(vhc_z, clusters.cluster_centers_, 'euclidean'), axis=1))/ vhc_z.shape[0])\n",
    "\n",
    "  # cdist computes distance between records of X and cluster_centers using euclidian method above\n",
    "  # since we are using euclidian, it will do (xi - xbar)^2 for every record in X in all dimensions and add underroot to get dist\n",
    "  # It will assign a given record to that cluster whos distance is min\n",
    "  # Sum up all the distances between data points and their cluster centers and append that to distortions array\n",
    "  # Distortions is the total spread among data points in all clusters put together\n",
    "  # Distortions will be 0 when each data point is a cluster but that is not useful to extract any information\n",
    "  # Distortion is another measure of spread, equivalent to intertia\n",
    "\n",
    "\n",
    "# combine the cluster_range and cluster_errors into a dataframe by combining them\n",
    "clusters_df = pd.DataFrame( { \"num_clusters\":cluster_range, \"cluster_errors\": cluster_errors} )\n",
    "clusters_df[0:15]\n"
   ]
  },
  {
   "cell_type": "code",
   "execution_count": null,
   "metadata": {},
   "outputs": [],
   "source": [
    "#Since the drop in cluster_errors does not occue significantly after n=3, hence setting n as 3 and \n",
    "#re-running"
   ]
  },
  {
   "cell_type": "code",
   "execution_count": 250,
   "metadata": {},
   "outputs": [
    {
     "data": {
      "text/html": [
       "<div>\n",
       "<style scoped>\n",
       "    .dataframe tbody tr th:only-of-type {\n",
       "        vertical-align: middle;\n",
       "    }\n",
       "\n",
       "    .dataframe tbody tr th {\n",
       "        vertical-align: top;\n",
       "    }\n",
       "\n",
       "    .dataframe thead th {\n",
       "        text-align: right;\n",
       "    }\n",
       "</style>\n",
       "<table border=\"1\" class=\"dataframe\">\n",
       "  <thead>\n",
       "    <tr style=\"text-align: right;\">\n",
       "      <th></th>\n",
       "      <th>num_clusters</th>\n",
       "      <th>cluster_errors</th>\n",
       "    </tr>\n",
       "  </thead>\n",
       "  <tbody>\n",
       "    <tr>\n",
       "      <th>0</th>\n",
       "      <td>1</td>\n",
       "      <td>15033.876999</td>\n",
       "    </tr>\n",
       "    <tr>\n",
       "      <th>1</th>\n",
       "      <td>2</td>\n",
       "      <td>9012.725488</td>\n",
       "    </tr>\n",
       "    <tr>\n",
       "      <th>2</th>\n",
       "      <td>3</td>\n",
       "      <td>7429.013158</td>\n",
       "    </tr>\n",
       "  </tbody>\n",
       "</table>\n",
       "</div>"
      ],
      "text/plain": [
       "   num_clusters  cluster_errors\n",
       "0             1    15033.876999\n",
       "1             2     9012.725488\n",
       "2             3     7429.013158"
      ]
     },
     "execution_count": 250,
     "metadata": {},
     "output_type": "execute_result"
    }
   ],
   "source": [
    "distortion = []\n",
    "\n",
    "cluster_range = range( 1, 4)   # expect 3 to four clusters from the pair panel visual inspection hence restricting from 2 to 6\n",
    "cluster_errors = []\n",
    "cluster_sil_scores = []\n",
    "for num_clusters in cluster_range:\n",
    "  clusters = KMeans( num_clusters, n_init = 5)\n",
    "  clusters.fit(vhc_z)\n",
    "  labels = clusters.labels_                     # capture the cluster lables\n",
    "  centroids = clusters.cluster_centers_         # capture the centroids\n",
    "  cluster_errors.append( clusters.inertia_ )    # capture the intertia\n",
    "  distortion.append(sum(np.min(distance.cdist(vhc_z, clusters.cluster_centers_, 'euclidean'), axis=1))/ vhc_z.shape[0])\n",
    "\n",
    "  # cdist computes distance between records of X and cluster_centers using euclidian method above\n",
    "  # since we are using euclidian, it will do (xi - xbar)^2 for every record in X in all dimensions and add underroot to get dist\n",
    "  # It will assign a given record to that cluster whos distance is min\n",
    "  # Sum up all the distances between data points and their cluster centers and append that to distortions array\n",
    "  # Distortions is the total spread among data points in all clusters put together\n",
    "  # Distortions will be 0 when each data point is a cluster but that is not useful to extract any information\n",
    "  # Distortion is another measure of spread, equivalent to intertia\n",
    "\n",
    "\n",
    "# combine the cluster_range and cluster_errors into a dataframe by combining them\n",
    "clusters_df = pd.DataFrame( { \"num_clusters\":cluster_range, \"cluster_errors\": cluster_errors} )\n",
    "clusters_df[0:15]\n"
   ]
  },
  {
   "cell_type": "markdown",
   "metadata": {
    "colab_type": "text",
    "id": "ywuVdFe2ho-t"
   },
   "source": [
    "### 5. Calculate errorrs for each K"
   ]
  },
  {
   "cell_type": "markdown",
   "metadata": {
    "colab_type": "text",
    "id": "PJznnrkc68nf"
   },
   "source": [
    "Iterating values of k from 1 to 10 fit K means model\n",
    "Using inertia"
   ]
  },
  {
   "cell_type": "code",
   "execution_count": 251,
   "metadata": {
    "colab": {},
    "colab_type": "code",
    "id": "uc49grvmho-2"
   },
   "outputs": [
    {
     "data": {
      "text/html": [
       "<div>\n",
       "<style scoped>\n",
       "    .dataframe tbody tr th:only-of-type {\n",
       "        vertical-align: middle;\n",
       "    }\n",
       "\n",
       "    .dataframe tbody tr th {\n",
       "        vertical-align: top;\n",
       "    }\n",
       "\n",
       "    .dataframe thead th {\n",
       "        text-align: right;\n",
       "    }\n",
       "</style>\n",
       "<table border=\"1\" class=\"dataframe\">\n",
       "  <thead>\n",
       "    <tr style=\"text-align: right;\">\n",
       "      <th></th>\n",
       "      <th>num_clusters</th>\n",
       "      <th>cluster_errors</th>\n",
       "    </tr>\n",
       "  </thead>\n",
       "  <tbody>\n",
       "    <tr>\n",
       "      <th>0</th>\n",
       "      <td>1</td>\n",
       "      <td>15033.876999</td>\n",
       "    </tr>\n",
       "    <tr>\n",
       "      <th>1</th>\n",
       "      <td>2</td>\n",
       "      <td>9012.725488</td>\n",
       "    </tr>\n",
       "    <tr>\n",
       "      <th>2</th>\n",
       "      <td>3</td>\n",
       "      <td>7430.523057</td>\n",
       "    </tr>\n",
       "    <tr>\n",
       "      <th>3</th>\n",
       "      <td>4</td>\n",
       "      <td>6807.848613</td>\n",
       "    </tr>\n",
       "    <tr>\n",
       "      <th>4</th>\n",
       "      <td>5</td>\n",
       "      <td>5595.860181</td>\n",
       "    </tr>\n",
       "    <tr>\n",
       "      <th>5</th>\n",
       "      <td>6</td>\n",
       "      <td>5080.640856</td>\n",
       "    </tr>\n",
       "    <tr>\n",
       "      <th>6</th>\n",
       "      <td>7</td>\n",
       "      <td>4689.451538</td>\n",
       "    </tr>\n",
       "    <tr>\n",
       "      <th>7</th>\n",
       "      <td>8</td>\n",
       "      <td>4412.159988</td>\n",
       "    </tr>\n",
       "    <tr>\n",
       "      <th>8</th>\n",
       "      <td>9</td>\n",
       "      <td>4086.948505</td>\n",
       "    </tr>\n",
       "    <tr>\n",
       "      <th>9</th>\n",
       "      <td>10</td>\n",
       "      <td>3869.475307</td>\n",
       "    </tr>\n",
       "  </tbody>\n",
       "</table>\n",
       "</div>"
      ],
      "text/plain": [
       "   num_clusters  cluster_errors\n",
       "0             1    15033.876999\n",
       "1             2     9012.725488\n",
       "2             3     7430.523057\n",
       "3             4     6807.848613\n",
       "4             5     5595.860181\n",
       "5             6     5080.640856\n",
       "6             7     4689.451538\n",
       "7             8     4412.159988\n",
       "8             9     4086.948505\n",
       "9            10     3869.475307"
      ]
     },
     "execution_count": 251,
     "metadata": {},
     "output_type": "execute_result"
    }
   ],
   "source": [
    "Out[249]"
   ]
  },
  {
   "cell_type": "code",
   "execution_count": 0,
   "metadata": {
    "colab": {},
    "colab_type": "code",
    "id": "NRJo1wzqho_Q"
   },
   "outputs": [],
   "source": []
  },
  {
   "cell_type": "markdown",
   "metadata": {
    "colab_type": "text",
    "id": "JIcSiPyoho_a"
   },
   "source": [
    "### 6. Plotting Elbow/ Scree Plot"
   ]
  },
  {
   "cell_type": "markdown",
   "metadata": {
    "colab_type": "text",
    "id": "Z8Yw5XEsho_r"
   },
   "source": [
    "Use Matplotlib to plot the scree plot - Note: Scree plot plots Errors vs the no of clusters"
   ]
  },
  {
   "cell_type": "code",
   "execution_count": 252,
   "metadata": {
    "colab": {},
    "colab_type": "code",
    "id": "sJ5oE4Csho_v"
   },
   "outputs": [
    {
     "data": {
      "text/plain": [
       "[<matplotlib.lines.Line2D at 0x4c64aeb8>]"
      ]
     },
     "execution_count": 252,
     "metadata": {},
     "output_type": "execute_result"
    },
    {
     "data": {
      "image/png": "[encoded data removed]",
      "text/plain": [
       "<Figure size 864x432 with 1 Axes>"
      ]
     },
     "metadata": {},
     "output_type": "display_data"
    }
   ],
   "source": [
    "# Elbow plot, Scree Plot\n",
    "\n",
    "\n",
    "plt.figure(figsize=(12,6))\n",
    "plt.plot( clusters_df.num_clusters, clusters_df.cluster_errors, marker = \"o\" )"
   ]
  },
  {
   "cell_type": "code",
   "execution_count": 253,
   "metadata": {},
   "outputs": [
    {
     "data": {
      "text/plain": [
       "[<matplotlib.lines.Line2D at 0x4c20a940>]"
      ]
     },
     "execution_count": 253,
     "metadata": {},
     "output_type": "execute_result"
    },
    {
     "data": {
      "image/png": "[encoded data removed]",
      "text/plain": [
       "<Figure size 1152x648 with 1 Axes>"
      ]
     },
     "metadata": {},
     "output_type": "display_data"
    }
   ],
   "source": [
    "plt.plot(range(1,4), distortion, 'go-')"
   ]
  },
  {
   "cell_type": "markdown",
   "metadata": {
    "colab_type": "text",
    "id": "sGx_Q_4Iho_7"
   },
   "source": [
    "### Find out the optimal value of K"
   ]
  },
  {
   "cell_type": "code",
   "execution_count": 0,
   "metadata": {
    "colab": {},
    "colab_type": "code",
    "id": "i2JjEPrcho__"
   },
   "outputs": [],
   "source": [
    "optimal value of k =3"
   ]
  },
  {
   "cell_type": "markdown",
   "metadata": {
    "colab_type": "text",
    "id": "5EoRD5PHhpAT"
   },
   "source": [
    "### Using optimal value of K - Cluster the data. \n",
    "Note: Since the data has more than 2 dimension we cannot visualize the data. As an alternative, we can observe the centroids and note how they are distributed across different dimensions"
   ]
  },
  {
   "cell_type": "code",
   "execution_count": 255,
   "metadata": {
    "colab": {},
    "colab_type": "code",
    "id": "68oQ0c2ThpAZ"
   },
   "outputs": [],
   "source": [
    "#Given in Next line"
   ]
  },
  {
   "cell_type": "markdown",
   "metadata": {
    "colab_type": "text",
    "id": "fY5IjhFihpAm"
   },
   "source": [
    "You can use kmeans.cluster_centers_ function to pull the centroid information from the instance"
   ]
  },
  {
   "cell_type": "code",
   "execution_count": 254,
   "metadata": {
    "colab": {},
    "colab_type": "code",
    "id": "vS3GhD4UhpAx"
   },
   "outputs": [
    {
     "name": "stdout",
     "output_type": "stream",
     "text": [
      "Centroid values\n",
      "sklearn\n",
      "[[ 1.13076532  1.17094237  1.19500584  1.01909505  0.21505188  0.34250798\n",
      "   1.27180461 -1.19061224  1.27548416  1.09266768  1.22038121  1.28132727\n",
      "   1.07954232 -0.02879497  0.16229031  0.26566456 -0.00535553  0.18380067\n",
      "   0.84615385]\n",
      " [-0.23221764 -0.58195888 -0.30748835 -0.02982427  0.2017708  -0.11576889\n",
      "  -0.46081447  0.32755691 -0.48973008 -0.54264519 -0.41474078 -0.46483179\n",
      "  -0.61104076 -0.62287875 -0.07217703  0.01483601  0.82321904  0.70627664\n",
      "   1.08360129]\n",
      " [-0.91644338 -0.51014796 -0.88872993 -1.05656762 -0.49034796 -0.2192064\n",
      "  -0.77419794  0.85821894 -0.74099102 -0.47657415 -0.77816005 -0.77926613\n",
      "  -0.37457573  0.83141315 -0.08160507 -0.30449084 -1.05218465 -1.10512484\n",
      "   1.01652893]]\n"
     ]
    }
   ],
   "source": [
    "# Number of clusters\n",
    "\n",
    "kmeans = KMeans(n_clusters=3)\n",
    "# Fitting the input data\n",
    "kmeans = kmeans.fit(vhc_z)\n",
    "\n",
    "# Getting the cluster labels\n",
    "\n",
    "labels = kmeans.predict(vhc_z)\n",
    "\n",
    "# Centroid values\n",
    "\n",
    "centroids = kmeans.cluster_centers_\n",
    "\n",
    "\n",
    "\n",
    "# Comparing with scikit-learn centroids\n",
    "\n",
    "print(\"Centroid values\")\n",
    "\n",
    "\n",
    "print(\"sklearn\")\n",
    "\n",
    "print(centroids) # From sci-kit learn"
   ]
  },
  {
   "cell_type": "code",
   "execution_count": 256,
   "metadata": {},
   "outputs": [
    {
     "data": {
      "text/plain": [
       "(3, 19)"
      ]
     },
     "execution_count": 256,
     "metadata": {},
     "output_type": "execute_result"
    }
   ],
   "source": [
    "centroids.shape"
   ]
  },
  {
   "cell_type": "markdown",
   "metadata": {
    "colab_type": "text",
    "id": "A2T8SxBdhpBL"
   },
   "source": [
    "### 7. Store the centroids in a dataframe with column names from the original dataset given "
   ]
  },
  {
   "cell_type": "code",
   "execution_count": 257,
   "metadata": {
    "colab": {},
    "colab_type": "code",
    "id": "xpjTngRNhpBP"
   },
   "outputs": [
    {
     "data": {
      "text/html": [
       "<div>\n",
       "<style scoped>\n",
       "    .dataframe tbody tr th:only-of-type {\n",
       "        vertical-align: middle;\n",
       "    }\n",
       "\n",
       "    .dataframe tbody tr th {\n",
       "        vertical-align: top;\n",
       "    }\n",
       "\n",
       "    .dataframe thead th {\n",
       "        text-align: right;\n",
       "    }\n",
       "</style>\n",
       "<table border=\"1\" class=\"dataframe\">\n",
       "  <thead>\n",
       "    <tr style=\"text-align: right;\">\n",
       "      <th></th>\n",
       "      <th>compactness_zscore</th>\n",
       "      <th>circularity_zscore</th>\n",
       "      <th>distance_circularity_zscore</th>\n",
       "      <th>radius_ratio_zscore</th>\n",
       "      <th>pr.axis_aspect_ratio_zscore</th>\n",
       "      <th>max.length_aspect_ratio_zscore</th>\n",
       "      <th>scatter_ratio_zscore</th>\n",
       "      <th>elongatedness_zscore</th>\n",
       "      <th>pr.axis_rectangularity_zscore</th>\n",
       "      <th>max.length_rectangularity_zscore</th>\n",
       "      <th>scaled_variance_zscore</th>\n",
       "      <th>scaled_variance.1_zscore</th>\n",
       "      <th>scaled_radius_of_gyration_zscore</th>\n",
       "      <th>scaled_radius_of_gyration.1_zscore</th>\n",
       "      <th>skewness_about_zscore</th>\n",
       "      <th>skewness_about.1_zscore</th>\n",
       "      <th>skewness_about.2_zscore</th>\n",
       "      <th>hollows_ratio_zscore</th>\n",
       "      <th>class</th>\n",
       "    </tr>\n",
       "  </thead>\n",
       "  <tbody>\n",
       "    <tr>\n",
       "      <th>0</th>\n",
       "      <td>1.130765</td>\n",
       "      <td>1.170942</td>\n",
       "      <td>1.195006</td>\n",
       "      <td>1.019095</td>\n",
       "      <td>0.215052</td>\n",
       "      <td>0.342508</td>\n",
       "      <td>1.271805</td>\n",
       "      <td>-1.190612</td>\n",
       "      <td>1.275484</td>\n",
       "      <td>1.092668</td>\n",
       "      <td>1.220381</td>\n",
       "      <td>1.281327</td>\n",
       "      <td>1.079542</td>\n",
       "      <td>-0.028795</td>\n",
       "      <td>0.162290</td>\n",
       "      <td>0.265665</td>\n",
       "      <td>-0.005356</td>\n",
       "      <td>0.183801</td>\n",
       "      <td>0.846154</td>\n",
       "    </tr>\n",
       "    <tr>\n",
       "      <th>1</th>\n",
       "      <td>-0.232218</td>\n",
       "      <td>-0.581959</td>\n",
       "      <td>-0.307488</td>\n",
       "      <td>-0.029824</td>\n",
       "      <td>0.201771</td>\n",
       "      <td>-0.115769</td>\n",
       "      <td>-0.460814</td>\n",
       "      <td>0.327557</td>\n",
       "      <td>-0.489730</td>\n",
       "      <td>-0.542645</td>\n",
       "      <td>-0.414741</td>\n",
       "      <td>-0.464832</td>\n",
       "      <td>-0.611041</td>\n",
       "      <td>-0.622879</td>\n",
       "      <td>-0.072177</td>\n",
       "      <td>0.014836</td>\n",
       "      <td>0.823219</td>\n",
       "      <td>0.706277</td>\n",
       "      <td>1.083601</td>\n",
       "    </tr>\n",
       "    <tr>\n",
       "      <th>2</th>\n",
       "      <td>-0.916443</td>\n",
       "      <td>-0.510148</td>\n",
       "      <td>-0.888730</td>\n",
       "      <td>-1.056568</td>\n",
       "      <td>-0.490348</td>\n",
       "      <td>-0.219206</td>\n",
       "      <td>-0.774198</td>\n",
       "      <td>0.858219</td>\n",
       "      <td>-0.740991</td>\n",
       "      <td>-0.476574</td>\n",
       "      <td>-0.778160</td>\n",
       "      <td>-0.779266</td>\n",
       "      <td>-0.374576</td>\n",
       "      <td>0.831413</td>\n",
       "      <td>-0.081605</td>\n",
       "      <td>-0.304491</td>\n",
       "      <td>-1.052185</td>\n",
       "      <td>-1.105125</td>\n",
       "      <td>1.016529</td>\n",
       "    </tr>\n",
       "  </tbody>\n",
       "</table>\n",
       "</div>"
      ],
      "text/plain": [
       "   compactness_zscore  circularity_zscore  distance_circularity_zscore  \\\n",
       "0            1.130765            1.170942                     1.195006   \n",
       "1           -0.232218           -0.581959                    -0.307488   \n",
       "2           -0.916443           -0.510148                    -0.888730   \n",
       "\n",
       "   radius_ratio_zscore  pr.axis_aspect_ratio_zscore  \\\n",
       "0             1.019095                     0.215052   \n",
       "1            -0.029824                     0.201771   \n",
       "2            -1.056568                    -0.490348   \n",
       "\n",
       "   max.length_aspect_ratio_zscore  scatter_ratio_zscore  elongatedness_zscore  \\\n",
       "0                        0.342508              1.271805             -1.190612   \n",
       "1                       -0.115769             -0.460814              0.327557   \n",
       "2                       -0.219206             -0.774198              0.858219   \n",
       "\n",
       "   pr.axis_rectangularity_zscore  max.length_rectangularity_zscore  \\\n",
       "0                       1.275484                          1.092668   \n",
       "1                      -0.489730                         -0.542645   \n",
       "2                      -0.740991                         -0.476574   \n",
       "\n",
       "   scaled_variance_zscore  scaled_variance.1_zscore  \\\n",
       "0                1.220381                  1.281327   \n",
       "1               -0.414741                 -0.464832   \n",
       "2               -0.778160                 -0.779266   \n",
       "\n",
       "   scaled_radius_of_gyration_zscore  scaled_radius_of_gyration.1_zscore  \\\n",
       "0                          1.079542                           -0.028795   \n",
       "1                         -0.611041                           -0.622879   \n",
       "2                         -0.374576                            0.831413   \n",
       "\n",
       "   skewness_about_zscore  skewness_about.1_zscore  skewness_about.2_zscore  \\\n",
       "0               0.162290                 0.265665                -0.005356   \n",
       "1              -0.072177                 0.014836                 0.823219   \n",
       "2              -0.081605                -0.304491                -1.052185   \n",
       "\n",
       "   hollows_ratio_zscore     class  \n",
       "0              0.183801  0.846154  \n",
       "1              0.706277  1.083601  \n",
       "2             -1.105125  1.016529  "
      ]
     },
     "execution_count": 257,
     "metadata": {},
     "output_type": "execute_result"
    }
   ],
   "source": [
    "cent_new = pd.DataFrame(centroids, columns=vhc_z.columns)\n",
    "cent_new"
   ]
  },
  {
   "cell_type": "markdown",
   "metadata": {
    "colab_type": "text",
    "id": "SvWlZ_FzhpBY"
   },
   "source": [
    "Hint: Use pd.Dataframe function "
   ]
  },
  {
   "cell_type": "code",
   "execution_count": 258,
   "metadata": {
    "colab": {},
    "colab_type": "code",
    "id": "EZ6nJ3BdhpBZ"
   },
   "outputs": [
    {
     "data": {
      "text/html": [
       "<div>\n",
       "<style scoped>\n",
       "    .dataframe tbody tr th:only-of-type {\n",
       "        vertical-align: middle;\n",
       "    }\n",
       "\n",
       "    .dataframe tbody tr th {\n",
       "        vertical-align: top;\n",
       "    }\n",
       "\n",
       "    .dataframe thead th {\n",
       "        text-align: right;\n",
       "    }\n",
       "</style>\n",
       "<table border=\"1\" class=\"dataframe\">\n",
       "  <thead>\n",
       "    <tr style=\"text-align: right;\">\n",
       "      <th></th>\n",
       "      <th>compactness_zscore</th>\n",
       "      <th>circularity_zscore</th>\n",
       "      <th>distance_circularity_zscore</th>\n",
       "      <th>radius_ratio_zscore</th>\n",
       "      <th>pr.axis_aspect_ratio_zscore</th>\n",
       "      <th>max.length_aspect_ratio_zscore</th>\n",
       "      <th>scatter_ratio_zscore</th>\n",
       "      <th>elongatedness_zscore</th>\n",
       "      <th>pr.axis_rectangularity_zscore</th>\n",
       "      <th>max.length_rectangularity_zscore</th>\n",
       "      <th>scaled_variance_zscore</th>\n",
       "      <th>scaled_variance.1_zscore</th>\n",
       "      <th>scaled_radius_of_gyration_zscore</th>\n",
       "      <th>scaled_radius_of_gyration.1_zscore</th>\n",
       "      <th>skewness_about_zscore</th>\n",
       "      <th>skewness_about.1_zscore</th>\n",
       "      <th>skewness_about.2_zscore</th>\n",
       "      <th>hollows_ratio_zscore</th>\n",
       "      <th>class</th>\n",
       "      <th>group</th>\n",
       "    </tr>\n",
       "  </thead>\n",
       "  <tbody>\n",
       "    <tr>\n",
       "      <th>841</th>\n",
       "      <td>-0.079822</td>\n",
       "      <td>-0.944703</td>\n",
       "      <td>0.314261</td>\n",
       "      <td>0.413803</td>\n",
       "      <td>0.279250</td>\n",
       "      <td>-0.128151</td>\n",
       "      <td>0.013207</td>\n",
       "      <td>-0.126809</td>\n",
       "      <td>-0.217151</td>\n",
       "      <td>-0.958335</td>\n",
       "      <td>0.373150</td>\n",
       "      <td>-0.093528</td>\n",
       "      <td>-0.781504</td>\n",
       "      <td>-0.053505</td>\n",
       "      <td>0.131793</td>\n",
       "      <td>1.380091</td>\n",
       "      <td>-0.159204</td>\n",
       "      <td>-0.098644</td>\n",
       "      <td>1</td>\n",
       "      <td>1</td>\n",
       "    </tr>\n",
       "    <tr>\n",
       "      <th>842</th>\n",
       "      <td>-0.565926</td>\n",
       "      <td>0.194828</td>\n",
       "      <td>0.124067</td>\n",
       "      <td>-0.181529</td>\n",
       "      <td>0.530251</td>\n",
       "      <td>0.513657</td>\n",
       "      <td>-0.289256</td>\n",
       "      <td>0.257876</td>\n",
       "      <td>-0.217151</td>\n",
       "      <td>0.766312</td>\n",
       "      <td>-0.493716</td>\n",
       "      <td>-0.401813</td>\n",
       "      <td>0.054092</td>\n",
       "      <td>-0.053505</td>\n",
       "      <td>-1.088104</td>\n",
       "      <td>0.819644</td>\n",
       "      <td>-0.484413</td>\n",
       "      <td>0.171837</td>\n",
       "      <td>2</td>\n",
       "      <td>1</td>\n",
       "    </tr>\n",
       "    <tr>\n",
       "      <th>843</th>\n",
       "      <td>1.500018</td>\n",
       "      <td>1.497149</td>\n",
       "      <td>1.201833</td>\n",
       "      <td>1.574700</td>\n",
       "      <td>0.655752</td>\n",
       "      <td>0.727593</td>\n",
       "      <td>1.616264</td>\n",
       "      <td>-1.409094</td>\n",
       "      <td>1.727163</td>\n",
       "      <td>1.732113</td>\n",
       "      <td>1.272121</td>\n",
       "      <td>1.613458</td>\n",
       "      <td>0.796844</td>\n",
       "      <td>-0.321192</td>\n",
       "      <td>-0.681472</td>\n",
       "      <td>-0.973784</td>\n",
       "      <td>-0.321809</td>\n",
       "      <td>0.712800</td>\n",
       "      <td>1</td>\n",
       "      <td>0</td>\n",
       "    </tr>\n",
       "    <tr>\n",
       "      <th>844</th>\n",
       "      <td>-0.930504</td>\n",
       "      <td>-1.433074</td>\n",
       "      <td>-0.256321</td>\n",
       "      <td>-0.687560</td>\n",
       "      <td>-0.473753</td>\n",
       "      <td>-0.342087</td>\n",
       "      <td>-1.015169</td>\n",
       "      <td>1.155476</td>\n",
       "      <td>-0.994877</td>\n",
       "      <td>-1.648193</td>\n",
       "      <td>-1.071626</td>\n",
       "      <td>-0.961293</td>\n",
       "      <td>-0.812452</td>\n",
       "      <td>-0.856567</td>\n",
       "      <td>-1.291420</td>\n",
       "      <td>1.380091</td>\n",
       "      <td>0.166004</td>\n",
       "      <td>-0.098644</td>\n",
       "      <td>1</td>\n",
       "      <td>1</td>\n",
       "    </tr>\n",
       "    <tr>\n",
       "      <th>845</th>\n",
       "      <td>-1.052030</td>\n",
       "      <td>-1.433074</td>\n",
       "      <td>-1.017098</td>\n",
       "      <td>-1.372192</td>\n",
       "      <td>-0.850254</td>\n",
       "      <td>-0.769959</td>\n",
       "      <td>-1.468864</td>\n",
       "      <td>1.924847</td>\n",
       "      <td>-1.383740</td>\n",
       "      <td>-1.372250</td>\n",
       "      <td>-1.553218</td>\n",
       "      <td>-1.292414</td>\n",
       "      <td>-1.338567</td>\n",
       "      <td>0.080339</td>\n",
       "      <td>-1.088104</td>\n",
       "      <td>0.595466</td>\n",
       "      <td>-0.484413</td>\n",
       "      <td>-0.774847</td>\n",
       "      <td>2</td>\n",
       "      <td>2</td>\n",
       "    </tr>\n",
       "  </tbody>\n",
       "</table>\n",
       "</div>"
      ],
      "text/plain": [
       "     compactness_zscore  circularity_zscore  distance_circularity_zscore  \\\n",
       "841           -0.079822           -0.944703                     0.314261   \n",
       "842           -0.565926            0.194828                     0.124067   \n",
       "843            1.500018            1.497149                     1.201833   \n",
       "844           -0.930504           -1.433074                    -0.256321   \n",
       "845           -1.052030           -1.433074                    -1.017098   \n",
       "\n",
       "     radius_ratio_zscore  pr.axis_aspect_ratio_zscore  \\\n",
       "841             0.413803                     0.279250   \n",
       "842            -0.181529                     0.530251   \n",
       "843             1.574700                     0.655752   \n",
       "844            -0.687560                    -0.473753   \n",
       "845            -1.372192                    -0.850254   \n",
       "\n",
       "     max.length_aspect_ratio_zscore  scatter_ratio_zscore  \\\n",
       "841                       -0.128151              0.013207   \n",
       "842                        0.513657             -0.289256   \n",
       "843                        0.727593              1.616264   \n",
       "844                       -0.342087             -1.015169   \n",
       "845                       -0.769959             -1.468864   \n",
       "\n",
       "     elongatedness_zscore  pr.axis_rectangularity_zscore  \\\n",
       "841             -0.126809                      -0.217151   \n",
       "842              0.257876                      -0.217151   \n",
       "843             -1.409094                       1.727163   \n",
       "844              1.155476                      -0.994877   \n",
       "845              1.924847                      -1.383740   \n",
       "\n",
       "     max.length_rectangularity_zscore  scaled_variance_zscore  \\\n",
       "841                         -0.958335                0.373150   \n",
       "842                          0.766312               -0.493716   \n",
       "843                          1.732113                1.272121   \n",
       "844                         -1.648193               -1.071626   \n",
       "845                         -1.372250               -1.553218   \n",
       "\n",
       "     scaled_variance.1_zscore  scaled_radius_of_gyration_zscore  \\\n",
       "841                 -0.093528                         -0.781504   \n",
       "842                 -0.401813                          0.054092   \n",
       "843                  1.613458                          0.796844   \n",
       "844                 -0.961293                         -0.812452   \n",
       "845                 -1.292414                         -1.338567   \n",
       "\n",
       "     scaled_radius_of_gyration.1_zscore  skewness_about_zscore  \\\n",
       "841                           -0.053505               0.131793   \n",
       "842                           -0.053505              -1.088104   \n",
       "843                           -0.321192              -0.681472   \n",
       "844                           -0.856567              -1.291420   \n",
       "845                            0.080339              -1.088104   \n",
       "\n",
       "     skewness_about.1_zscore  skewness_about.2_zscore  hollows_ratio_zscore  \\\n",
       "841                 1.380091                -0.159204             -0.098644   \n",
       "842                 0.819644                -0.484413              0.171837   \n",
       "843                -0.973784                -0.321809              0.712800   \n",
       "844                 1.380091                 0.166004             -0.098644   \n",
       "845                 0.595466                -0.484413             -0.774847   \n",
       "\n",
       "     class  group  \n",
       "841      1      1  \n",
       "842      2      1  \n",
       "843      1      0  \n",
       "844      1      1  \n",
       "845      2      2  "
      ]
     },
     "execution_count": 258,
     "metadata": {},
     "output_type": "execute_result"
    }
   ],
   "source": [
    "prediction= kmeans.predict(vhc_z)  #Using the KMeans cluster object to assign cluster_id to each record in X.\n",
    "#X[\"clusters\"] = prediction\n",
    "#X_df = pd.DataFrame(vhc_z, columns= colnames)\n",
    "vhc_z[\"group\"] = prediction  # Store the cluster id into a new \"group\" column\n",
    "\n",
    "\n",
    "vhc_z.tail(5)"
   ]
  },
  {
   "cell_type": "code",
   "execution_count": 0,
   "metadata": {
    "colab": {},
    "colab_type": "code",
    "id": "HPey2b-DhpBh"
   },
   "outputs": [],
   "source": []
  },
  {
   "cell_type": "markdown",
   "metadata": {
    "colab_type": "text",
    "id": "n2kFVi2GhpBn"
   },
   "source": [
    "### Use kmeans.labels_ function to print out the labels of the classes"
   ]
  },
  {
   "cell_type": "code",
   "execution_count": 260,
   "metadata": {
    "colab": {},
    "colab_type": "code",
    "id": "Ahx91q_ghpBp"
   },
   "outputs": [
    {
     "data": {
      "image/png": "[encoded data removed]",
      "text/plain": [
       "<Figure size 1152x648 with 1 Axes>"
      ]
     },
     "metadata": {},
     "output_type": "display_data"
    }
   ],
   "source": [
    "colors = ['red','blue', 'yellow']\n",
    "fig, ax = plt.subplots()\n",
    "c = np.array([3,3])\n",
    "\n",
    "for i in labels:\n",
    "        points = np.array(vhc_z.loc[vhc_z['group'] == i])\n",
    "        #c[i] = np.mean(points, axis=0)\n",
    "        ax.scatter(points[:, 0], points[:, 1], s=7, c=colors[i])"
   ]
  },
  {
   "cell_type": "code",
   "execution_count": 0,
   "metadata": {
    "colab": {},
    "colab_type": "code",
    "id": "hm0AtttihpBv"
   },
   "outputs": [],
   "source": []
  },
  {
   "cell_type": "markdown",
   "metadata": {
    "colab_type": "text",
    "id": "SmQyHhmFhpB3"
   },
   "source": [
    "## Hierarchical Clustering "
   ]
  },
  {
   "cell_type": "markdown",
   "metadata": {
    "colab_type": "text",
    "id": "_zAMRDe_hpB5"
   },
   "source": [
    "### 8. Variable creation"
   ]
  },
  {
   "cell_type": "markdown",
   "metadata": {
    "colab_type": "text",
    "id": "VESIKt49hpB6"
   },
   "source": [
    "For Hierarchical clustering, we will create datasets using multivariate normal distribution to visually observe how the clusters are formed at the end"
   ]
  },
  {
   "cell_type": "code",
   "execution_count": 261,
   "metadata": {
    "colab": {},
    "colab_type": "code",
    "id": "qpUh49bKhpB8"
   },
   "outputs": [],
   "source": [
    "np.random.seed(101)  # for repeatability of this dataset\n",
    "a = np.random.multivariate_normal([10, 0], [[3, 1], [1, 4]], size=[100,])\n",
    "b = np.random.multivariate_normal([0, 20], [[3, 1], [1, 4]], size=[50,])\n",
    "c = np.random.multivariate_normal([10, 20], [[3, 1], [1, 4]], size=[100,])"
   ]
  },
  {
   "cell_type": "markdown",
   "metadata": {
    "colab_type": "raw",
    "id": "cu8DfP8shpCA"
   },
   "source": [
    "a = np.random.multivariate_normal([10, 0], [[3, 1], [1, 4]], size=[100,])\n",
    "b = np.random.multivariate_normal([0, 20], [[3, 1], [1, 4]], size=[50,])\n",
    "c = np.random.multivariate_normal([10, 20], [[3, 1], [1, 4]], size=[100,])"
   ]
  },
  {
   "cell_type": "markdown",
   "metadata": {
    "colab_type": "text",
    "id": "PJ9Pn81c3jOu"
   },
   "source": [
    "https://docs.scipy.org/doc/numpy-1.15.1/reference/generated/numpy.random.multivariate_normal.html"
   ]
  },
  {
   "cell_type": "code",
   "execution_count": null,
   "metadata": {
    "colab_type": "text",
    "id": "Eui7Qgc8hpCH"
   },
   "outputs": [],
   "source": [
    "### 9. Combine all three arrays a,b,c into a dataframe"
   ]
  },
  {
   "cell_type": "code",
   "execution_count": 262,
   "metadata": {
    "colab": {},
    "colab_type": "code",
    "id": "Nle34XhhhpCI"
   },
   "outputs": [
    {
     "data": {
      "text/plain": [
       "(250, 2)"
      ]
     },
     "execution_count": 262,
     "metadata": {},
     "output_type": "execute_result"
    }
   ],
   "source": [
    "result = np.concatenate((a,b,c),axis=0)\n",
    "result.shape"
   ]
  },
  {
   "cell_type": "code",
   "execution_count": 263,
   "metadata": {
    "colab": {},
    "colab_type": "code",
    "id": "lov1nQqAhpCa"
   },
   "outputs": [
    {
     "data": {
      "text/html": [
       "<div>\n",
       "<style scoped>\n",
       "    .dataframe tbody tr th:only-of-type {\n",
       "        vertical-align: middle;\n",
       "    }\n",
       "\n",
       "    .dataframe tbody tr th {\n",
       "        vertical-align: top;\n",
       "    }\n",
       "\n",
       "    .dataframe thead th {\n",
       "        text-align: right;\n",
       "    }\n",
       "</style>\n",
       "<table border=\"1\" class=\"dataframe\">\n",
       "  <thead>\n",
       "    <tr style=\"text-align: right;\">\n",
       "      <th></th>\n",
       "      <th>Col1</th>\n",
       "      <th>Col2</th>\n",
       "    </tr>\n",
       "  </thead>\n",
       "  <tbody>\n",
       "    <tr>\n",
       "      <th>0</th>\n",
       "      <td>13.882785</td>\n",
       "      <td>4.438501</td>\n",
       "    </tr>\n",
       "    <tr>\n",
       "      <th>1</th>\n",
       "      <td>11.687256</td>\n",
       "      <td>1.250981</td>\n",
       "    </tr>\n",
       "    <tr>\n",
       "      <th>2</th>\n",
       "      <td>10.316397</td>\n",
       "      <td>1.449346</td>\n",
       "    </tr>\n",
       "    <tr>\n",
       "      <th>3</th>\n",
       "      <td>9.837412</td>\n",
       "      <td>-2.041974</td>\n",
       "    </tr>\n",
       "    <tr>\n",
       "      <th>4</th>\n",
       "      <td>8.691601</td>\n",
       "      <td>-4.289773</td>\n",
       "    </tr>\n",
       "  </tbody>\n",
       "</table>\n",
       "</div>"
      ],
      "text/plain": [
       "        Col1      Col2\n",
       "0  13.882785  4.438501\n",
       "1  11.687256  1.250981\n",
       "2  10.316397  1.449346\n",
       "3   9.837412 -2.041974\n",
       "4   8.691601 -4.289773"
      ]
     },
     "execution_count": 263,
     "metadata": {},
     "output_type": "execute_result"
    }
   ],
   "source": [
    "df=pd.DataFrame(result)\n",
    "df.columns = ['Col1', 'Col2']\n",
    "df.head()"
   ]
  },
  {
   "cell_type": "markdown",
   "metadata": {
    "colab_type": "text",
    "id": "v6JlILlihpCe"
   },
   "source": [
    "### 10. Use scatter matrix to print all the 3 distributions"
   ]
  },
  {
   "cell_type": "code",
   "execution_count": 264,
   "metadata": {
    "colab": {},
    "colab_type": "code",
    "id": "i6Nf9LznhpCg"
   },
   "outputs": [
    {
     "data": {
      "text/plain": [
       "<matplotlib.collections.PathCollection at 0x4d7ad080>"
      ]
     },
     "execution_count": 264,
     "metadata": {},
     "output_type": "execute_result"
    },
    {
     "data": {
      "image/png": "[encoded data removed]",
      "text/plain": [
       "<Figure size 1152x648 with 1 Axes>"
      ]
     },
     "metadata": {},
     "output_type": "display_data"
    }
   ],
   "source": [
    "# Getting the values and plotting it\n",
    "\n",
    "f1 = df['Col1'].values\n",
    "f2 = df['Col2'].values\n",
    "\n",
    "X = np.array(list(zip(f1, f2)))\n",
    "\n",
    "plt.scatter(f1, f2, c='black', s=7)"
   ]
  },
  {
   "cell_type": "markdown",
   "metadata": {
    "colab_type": "text",
    "id": "Ufj36K5NhpCo"
   },
   "source": [
    "### 11. Find out the linkage matrix"
   ]
  },
  {
   "cell_type": "code",
   "execution_count": 0,
   "metadata": {
    "colab": {},
    "colab_type": "code",
    "id": "rXJAOAilhpCp"
   },
   "outputs": [],
   "source": [
    "https://docs.scipy.org/doc/scipy-0.14.0/reference/generated/scipy.cluster.hierarchy.linkage.html"
   ]
  },
  {
   "cell_type": "markdown",
   "metadata": {
    "colab_type": "text",
    "id": "EOxwi5gshpCt"
   },
   "source": [
    "Use ward as linkage metric and distance as Eucledian"
   ]
  },
  {
   "cell_type": "code",
   "execution_count": 265,
   "metadata": {
    "colab": {},
    "colab_type": "code",
    "id": "xJsL16lqhpCu"
   },
   "outputs": [
    {
     "data": {
      "text/plain": [
       "0.9536963071171022"
      ]
     },
     "execution_count": 265,
     "metadata": {},
     "output_type": "execute_result"
    }
   ],
   "source": [
    "from scipy.cluster.hierarchy import cophenet, dendrogram, linkage\n",
    "from scipy.spatial.distance import pdist\n",
    "Z = linkage(df, 'ward')\n",
    "c, coph_dists = cophenet(Z , pdist(df))\n",
    "\n",
    "c"
   ]
  },
  {
   "cell_type": "markdown",
   "metadata": {
    "colab_type": "text",
    "id": "UnVS8VYMhpC9"
   },
   "source": [
    "### 12. Plot the dendrogram for the consolidated dataframe"
   ]
  },
  {
   "cell_type": "code",
   "execution_count": 266,
   "metadata": {
    "colab": {},
    "colab_type": "code",
    "id": "oeLtemVqhpC_"
   },
   "outputs": [
    {
     "data": {
      "image/png": "[encoded data removed]",
      "text/plain": [
       "<Figure size 720x720 with 1 Axes>"
      ]
     },
     "metadata": {},
     "output_type": "display_data"
    }
   ],
   "source": [
    "from sklearn.cluster import AgglomerativeClustering \n",
    "plt.figure(figsize=(10, 10))\n",
    "plt.title('Agglomerative Hierarchical Clustering Dendogram')\n",
    "plt.xlabel('sample index')\n",
    "plt.ylabel('Distance')\n",
    "dendrogram(Z, leaf_rotation=90.,color_threshold = 30, leaf_font_size=8. )\n",
    "plt.tight_layout()"
   ]
  },
  {
   "cell_type": "markdown",
   "metadata": {
    "colab_type": "text",
    "id": "QXE-T9cHhpDS"
   },
   "source": [
    "### 13. Recreate the dendrogram for last 12 merged clusters "
   ]
  },
  {
   "cell_type": "markdown",
   "metadata": {
    "colab_type": "text",
    "id": "RmW_ublu3jPS"
   },
   "source": [
    "https://docs.scipy.org/doc/scipy-0.14.0/reference/generated/scipy.cluster.hierarchy.dendrogram.html"
   ]
  },
  {
   "cell_type": "markdown",
   "metadata": {
    "colab_type": "text",
    "id": "4PKR3o5QhpDX"
   },
   "source": [
    "Hint: Use truncate_mode='lastp' attribute in dendrogram function to arrive at dendrogram "
   ]
  },
  {
   "cell_type": "code",
   "execution_count": 267,
   "metadata": {
    "colab": {},
    "colab_type": "code",
    "id": "GDri9xtAhpDY"
   },
   "outputs": [
    {
     "data": {
      "image/png": "[encoded data removed]",
      "text/plain": [
       "<Figure size 1152x648 with 1 Axes>"
      ]
     },
     "metadata": {},
     "output_type": "display_data"
    }
   ],
   "source": [
    "dendrogram(\n",
    "    Z,\n",
    "    truncate_mode='lastp',  # show only the last p merged clusters\n",
    "    p=3,  # show only the last p merged clusters\n",
    ")\n",
    "plt.show()"
   ]
  }
 ],
 "metadata": {
  "colab": {
   "collapsed_sections": [
    "n2kFVi2GhpBn",
    "Ufj36K5NhpCo"
   ],
   "name": "R4_Internal_Lab_Clustering.ipynb",
   "provenance": []
  },
  "kernelspec": {
   "display_name": "Python 3",
   "language": "python",
   "name": "python3"
  },
  "language_info": {
   "codemirror_mode": {
    "name": "ipython",
    "version": 3
   },
   "file_extension": ".py",
   "mimetype": "text/x-python",
   "name": "python",
   "nbconvert_exporter": "python",
   "pygments_lexer": "ipython3",
   "version": "3.7.3"
  }
 },
 "nbformat": 4,
 "nbformat_minor": 1
}
